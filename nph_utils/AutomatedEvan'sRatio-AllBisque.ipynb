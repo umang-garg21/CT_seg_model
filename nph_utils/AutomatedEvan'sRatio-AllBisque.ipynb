{
 "cells": [
  {
   "cell_type": "code",
   "execution_count": 1,
   "id": "c54da9e2",
   "metadata": {},
   "outputs": [
    {
     "ename": "FileNotFoundError",
     "evalue": "[Errno 2] No such file or directory: '/media/hdd6/umang/NPH/pre-post_shunt_new/'",
     "output_type": "error",
     "traceback": [
      "\u001b[0;31m---------------------------------------------------------------------------\u001b[0m",
      "\u001b[0;31mFileNotFoundError\u001b[0m                         Traceback (most recent call last)",
      "\u001b[0;32m/tmp/ipykernel_372350/1268592485.py\u001b[0m in \u001b[0;36m<module>\u001b[0;34m\u001b[0m\n\u001b[1;32m      6\u001b[0m \u001b[0mimg_dir\u001b[0m \u001b[0;34m=\u001b[0m \u001b[0;34m'/home/hazel/Compiled scans/segs_4class/'\u001b[0m\u001b[0;34m\u001b[0m\u001b[0;34m\u001b[0m\u001b[0m\n\u001b[1;32m      7\u001b[0m \u001b[0mimg_dir\u001b[0m \u001b[0;34m=\u001b[0m \u001b[0;34m'/media/hdd6/umang/NPH/pre-post_shunt_new/'\u001b[0m\u001b[0;34m\u001b[0m\u001b[0;34m\u001b[0m\u001b[0m\n\u001b[0;32m----> 8\u001b[0;31m \u001b[0mfiles\u001b[0m \u001b[0;34m=\u001b[0m \u001b[0mos\u001b[0m\u001b[0;34m.\u001b[0m\u001b[0mlistdir\u001b[0m\u001b[0;34m(\u001b[0m\u001b[0mimg_dir\u001b[0m\u001b[0;34m)\u001b[0m\u001b[0;34m\u001b[0m\u001b[0;34m\u001b[0m\u001b[0m\n\u001b[0m",
      "\u001b[0;31mFileNotFoundError\u001b[0m: [Errno 2] No such file or directory: '/media/hdd6/umang/NPH/pre-post_shunt_new/'"
     ]
    }
   ],
   "source": [
    "import os\n",
    "import nibabel as nib\n",
    "# img_dir = \"/media/hdd2/shailja/NPH/BisqueAmil/\"\n",
    "img_dir = '/home/shailja/NPH_mni/Subjects/'\n",
    "# img_dir = \"/media/hdd2/shailja/NPH/DriveDownloadNPHData/Final/\"\n",
    "img_dir = '/home/hazel/Compiled scans/segs_4class/'\n",
    "img_dir = '/media/hdd6/umang/NPH/pre-post_shunt_new/'\n",
    "files = os.listdir(img_dir)"
   ]
  },
  {
   "cell_type": "code",
   "execution_count": 10,
   "id": "16eb7a17",
   "metadata": {},
   "outputs": [
    {
     "name": "stdout",
     "output_type": "stream",
     "text": [
      "1\n"
     ]
    }
   ],
   "source": [
    "print(len(files))"
   ]
  },
  {
   "cell_type": "code",
   "execution_count": 11,
   "id": "b509f302",
   "metadata": {},
   "outputs": [
    {
     "name": "stdout",
     "output_type": "stream",
     "text": [
      "1\n",
      "Bisque_Paired_009_1618Pre_77yo.segmented1.nii.gz 0.37003854 0.37003908 4.999789 31\n"
     ]
    }
   ],
   "source": [
    "import numpy as np\n",
    "print(len(files))\n",
    "for file in files:\n",
    "    if \".nii\" in file and \".xml\" not in file:\n",
    "        final_img = nib.load(img_dir + file)\n",
    "        final_N = final_img.get_fdata()\n",
    "        \n",
    "#         print(file, np.unique(final_N, return_counts = True))\n",
    "        print(file,final_img.header['pixdim'][1] , final_img.header['pixdim'][2] , final_img.header['pixdim'][3],final_N.shape[2])"
   ]
  },
  {
   "cell_type": "code",
   "execution_count": 12,
   "id": "ab82cb81",
   "metadata": {
    "scrolled": true
   },
   "outputs": [
    {
     "name": "stdout",
     "output_type": "stream",
     "text": [
      "3 4.999789\n",
      "Bisque_Paired_009_1618Pre_77yo.segmented1.nii.gz 0.19 0.32\n"
     ]
    }
   ],
   "source": [
    "#Final files\n",
    "import nibabel as nib\n",
    "import matplotlib.pyplot as plt\n",
    "# final_files = [\"Final_NPH_shunt_022_80yo.nii.gz\",\"Final_NPH_shunt_017_79yo.nii.gz\",\"Final_NPH_shunt_016_79yo.nii.gz\",\"Final_NPH_shunt_015_79yo.nii.gz\",\"Final_NPH_shunt_014_79yo.nii.gz\",\"Final_NPH_shunt_013_72yo.nii.gz\",\"Final_NPH_shunt_012_72yo.nii.gz\",\"Final_NPH_shunt_011_72yo.nii.gz\",\"Final_NPH_shunt_010_81yo.nii.gz\",\"Final_NPH_shunt_009_81yo.nii.gz\",\"Final_NPH_shunt_008_81yo.nii.gz\",\"Final_NPH_shunt_007_76yo.nii.gz\",\"Final_NPH_shunt_006_80yo.nii.gz\",\"Final_NPH_shunt_005_85yo.nii.gz\",\"Final_NPH_shunt_004_85yo.nii.gz\",\"Final_NPH_shunt_003_70yo.nii.gz\",\"Final_NPH_shunt_002_70yo.nii.gz\",\"Final_NPH_shunt_001_80yo.nii.gz\",\"Final_NPH_noShunt_007_85yo.nii.gz\",\"Final_NPH_noShunt_006_85yo.nii.gz\",\"Final_NPH_noShunt_005_85yo.nii.gz\",\"Final_NPH_noShunt_004_85yo.nii.gz\",\"Final_NPH_noShunt_003_62yo.nii.gz\",\"Final_NPH_noShunt_002_70yo.nii.gz\",\"Final_NPH_noShunt_001_70yo.nii.gz\",\"Final_Norm_young_040_37yo.nii.gz\",\"Final_Norm_old_037_67yo.nii.gz\",\"Final_Norm_old_036_65yo.nii.gz\",\"Final_Norm_old_035_65yo.nii.gz\",\"Final_Norm_old_033_60yo.nii.gz\",\"Final_Norm_old_032_60yo.nii.gz\",\"Final_Norm_old_031_87yo.nii.gz\",\"Final_Norm_old_030_83yo.nii.gz\",\"Final_Norm_old_029_80yo.nii.gz\",\"Final_Norm_old_028_77yo.nii.gz\",\"Final_Norm_old_027_74yo.nii.gz\",\"Final_Norm_old_026_72yo.nii.gz\",\"Final_Norm_old_025_70yo.nii.gz\",\"Final_Norm_old_024_66yo.nii.gz\",\"Final_Norm_old_022_78yo.nii.gz\",\"Final_Norm_old_021_77yo.nii.gz\",\"Final_Norm_old_020_75yo.nii.gz\",\"Final_Norm_old_019_74yo.nii.gz\",\"Final_Norm_old_018_71yo.nii.gz\",\"Final_Norm_old_017_69yo.nii.gz\",\"Final_Norm_old_016_66yo.nii.gz\",\"Final_Norm_old_015_61yo.nii.gz\",\"Final_Norm_old_014_61yo.nii.gz\",\"Final_Norm_old_012_83yo.nii.gz\",\"Final_Norm_old_011_76yo.nii.gz\",\"Final_Norm_old_010_74yo.nii.gz\",\"Final_Norm_old_009_74yo.nii.gz\",\"Final_Norm_old_008_71yo.nii.gz\",\"Final_Norm_old_007_71yo.nii.gz\",\"Final_Norm_old_006_70yo.nii.gz\",\"Final_Norm_old_004_64yo.nii.gz\",\"Final_Norm_old_003_96yo.nii.gz\",\"Final_Norm_old_002_64yo.nii.gz\",\"Final_Norm_old_001_81yo.nii.gz\"]\n",
    "# print(\"file, brain volume, csf_ratio_bv_7, ventricle_ratio_bv_7, csf_ratio_7, ventricle_ratio_7, max_z, total_ventricle_volume, total_csf_volume, ventricle_volune_7,csf_volume_7,brain_volume_7\")\n",
    "# print(\"file, ventr_vol, csf_vol, brain_vol, ventr/brain, csf/brain, 7ventr_vol, 7csf_vol, 7brain_vol, 7ventr/brain, 7csf/brain, ventricle_ratio_bv_7, csf_ratio_bv_7, ventricle_ratio_7, csf_ratio_7, max_z\")\n",
    "for file in files:\n",
    "#     print(file, file[20:].split(\".\")[0])\n",
    "    if  \".nii\" in file and \".xml\" not in file:# and file.split(\".\")[0][8:] in missing:\n",
    "        \n",
    "#         print(file)\n",
    "        try:\n",
    "            final_img = nib.load(img_dir + file)\n",
    "            mm = final_img.header['pixdim'][1] * final_img.header['pixdim'][2] * final_img.header['pixdim'][3]\n",
    "        #             print(file,final_img.shape, final_img.header['pixdim'][1], final_img.header['pixdim'][2], final_img.header['pixdim'][3])\n",
    "            mm = abs(mm)\n",
    "            final_N = final_img.get_fdata()\n",
    "            ventricle_count = (final_N == 1).sum()\n",
    "            ventricle_count = ventricle_count + (final_N == 6).sum()\n",
    "            csf_count = ventricle_count + (final_N == 3).sum()\n",
    "            brain_count = (final_N != 1).sum()\n",
    "        #             print(\"Ventricle volume\", file,ventricle_count*mm)\n",
    "        #             print(\"CSF volume\", file,csf_count*mm)\n",
    "            max_z = 0\n",
    "            count_z = 0\n",
    "            for k in range(final_N.shape[2]):\n",
    "                count = 0\n",
    "                for i in range(final_N.shape[0]):\n",
    "                    for j in range(final_N.shape[1]):\n",
    "                        if (final_N[i][j][k] ==1 or final_N[i][j][k] == 6):\n",
    "                            count += 1\n",
    "                if (count > count_z):\n",
    "                    max_z = k\n",
    "                    count_z = count\n",
    "        #     test = final_N[:,:,max_z]\n",
    "        #     plt.imshow(test)\n",
    "        #     plt.show()\n",
    "            count_csf_list = []\n",
    "            count_ventricle_list = []\n",
    "            count_brain_list_csf = []\n",
    "            count_brain_list_ventricle = []\n",
    "            ventricle_count_7 = 0\n",
    "            csf_count_7 = 0\n",
    "            brain_count_7 = 0\n",
    "            grey_count_7 = 0\n",
    "            numSlice =int((35//final_img.header['pixdim'][3])//2)\n",
    "            print(numSlice, final_img.header['pixdim'][3])\n",
    "\n",
    "\n",
    "            for k in range(max_z-numSlice,max_z+numSlice+1):\n",
    "                count_csf = 0\n",
    "                count_ventricle = 0\n",
    "                count_grey = 0\n",
    "                count_brain = 0\n",
    "                for i in range(final_N.shape[0]):\n",
    "                    for j in range(final_N.shape[1]):\n",
    "                        if (int(final_N[i][j][k]) ==1 or int(final_N[i][j][k]) == 3 or int(final_N[i][j][k]) == 6):\n",
    "                            count_csf += 1\n",
    "                        if (int(final_N[i][j][k]) ==1  or int(final_N[i][j][k]) == 6):\n",
    "                            count_ventricle += 1\n",
    "                        if (int(final_N[i][j][k]) == 2):\n",
    "                            count_grey += 1\n",
    "                        if (int(final_N[i][j][k]) != 0):\n",
    "                            count_brain += 1\n",
    "                ventricle_count_7 += count_ventricle\n",
    "                csf_count_7 += count_csf\n",
    "                brain_count_7 += count_brain\n",
    "                grey_count_7 += count_grey\n",
    "                count_csf_list.append(count_csf*1.0/count_grey)\n",
    "                count_ventricle_list.append(count_ventricle*1.0/count_grey)\n",
    "                count_brain_list_ventricle.append(count_ventricle*1.0/count_brain)\n",
    "                count_brain_list_csf.append(count_csf*1.0/count_brain)\n",
    "            print(file,round(ventricle_count_7/brain_count_7, 2), round(csf_count_7/brain_count_7,2) )\n",
    "#                 print(\"file, ventr_vol, csf_vol, brain_vol, ventr/brain, csf/brain, 7ventr_vol, 7csf_vol, 7brain_vol, 7ventr/brain, 7csf/brain, ventricle_ratio_bv_7, csf_ratio_bv_7, ventricle_ratio_7, csf_ratio_7, max_z\")\n",
    "#             print(file, ventricle_count*mm, csf_count*mm, brain_count*mm,ventricle_count/brain_count, csf_count/brain_count, ventricle_count_7*mm,csf_count_7*mm, (csf_count_7-ventricle_count_7)*mm, brain_count_7*mm, ventricle_count_7/brain_count_7, csf_count_7/brain_count_7, (csf_count_7-ventricle_count_7)/brain_count_7,max(count_brain_list_ventricle), max(count_brain_list_csf), max(count_ventricle_list), max(count_csf_list),max_z)\n",
    "#             print(file,int(brain_count*mm),  int(ventricle_count_7*mm), int(brain_count_7*mm), round(ventricle_count_7/brain_count_7, 3))\n",
    "#             print(\"7 slices Ventricle volume\", ventricle_count_7*mm)\n",
    "#             print(\"7 slices CSF volume\", csf_count_7*mm)\n",
    "#         print(file,  brain_count*mm, max(count_brain_list_ventricle), max(count_brain_list_csf), max(count_csf_list), max(count_ventricle_list),max_z,ventricle_count*mm,csf_count*mm,ventricle_count_7*mm,csf_count_7*mm,brain_count_7*mm)\n",
    "        except:\n",
    "#             pass\n",
    "            print(file)\n",
    "#     else:\n",
    "#         pass"
   ]
  },
  {
   "cell_type": "code",
   "execution_count": null,
   "id": "e99be9b8",
   "metadata": {
    "scrolled": false
   },
   "outputs": [],
   "source": [
    "#Final files\n",
    "import nibabel as nib\n",
    "# print(\"file, brain volume, csf_ratio_bv_7, ventricle_ratio_bv_7, csf_ratio_7, ventricle_ratio_7, max_z, total_ventricle_volume, total_csf_volume, ventricle_volune_7,csf_volume_7,brain_volume_7\")\n",
    "print(\"file, ventr_vol, csf_vol, brain_vol, ventr/brain, csf/brain, 7ventr_vol, 7csf_vol, 7brain_vol, 7ventr/brain, 7csf/brain, ventricle_ratio_bv_7, csf_ratio_bv_7, ventricle_ratio_7, csf_ratio_7, max_z\")\n",
    "for file in files:\n",
    "    if \".nii\" in file:\n",
    "#         try:\n",
    "        final_img = nib.load(img_dir + file )\n",
    "        mm = final_img.header['pixdim'][1] * final_img.header['pixdim'][2] * final_img.header['pixdim'][3]\n",
    "        mm = abs(mm)\n",
    "        final_N = final_img.get_fdata()\n",
    "        ventricle_count = (final_N == 1).sum()\n",
    "        ventricle_count = ventricle_count + (final_N == 6).sum()\n",
    "        csf_count = ventricle_count + (final_N == 3).sum()\n",
    "        brain_count = (final_N != 1).sum()\n",
    "#             print(\"Ventricle volume\", file,ventricle_count*mm)\n",
    "#             print(\"CSF volume\", file,csf_count*mm)\n",
    "        max_z = 0\n",
    "        count_z = 0\n",
    "        for k in range(final_N.shape[2]):\n",
    "            count = 0\n",
    "            for i in range(final_N.shape[0]):\n",
    "                for j in range(final_N.shape[1]):\n",
    "                    if (final_N[i][j][k] ==1 or final_N[i][j][k] == 6):\n",
    "                        count += 1\n",
    "            if (count > count_z):\n",
    "                max_z = k\n",
    "                count_z = count\n",
    "        count_csf_list = []\n",
    "        count_ventricle_list = []\n",
    "        count_brain_list_csf = []\n",
    "        count_brain_list_ventricle = []\n",
    "        ventricle_count_7 = 0\n",
    "        csf_count_7 = 0\n",
    "        brain_count_7 = 0\n",
    "        for k in range(max_z-3,max_z+4):\n",
    "            count_csf = 0\n",
    "            count_ventricle = 0\n",
    "            count_grey = 0\n",
    "            count_brain = 0\n",
    "            for i in range(final_N.shape[0]):\n",
    "                for j in range(final_N.shape[1]):\n",
    "                    if (final_N[i][j][k] ==1 or final_N[i][j][k] == 3 or final_N[i][j][k] == 6):\n",
    "                        count_csf += 1\n",
    "                    if (final_N[i][j][k] ==1  or final_N[i][j][k] == 6):\n",
    "                        count_ventricle += 1\n",
    "                    if (final_N[i][j][k] == 2):\n",
    "                        count_grey += 1\n",
    "                    if (final_N[i][j][k] != 0):\n",
    "                        count_brain += 1\n",
    "            ventricle_count_7 += count_ventricle\n",
    "            csf_count_7 += count_csf\n",
    "            brain_count_7 += count_brain\n",
    "            count_csf_list.append(count_csf*1.0/count_grey)\n",
    "            count_ventricle_list.append(count_ventricle*1.0/count_grey)\n",
    "            count_brain_list_ventricle.append(count_ventricle*1.0/count_brain)\n",
    "            count_brain_list_csf.append(count_csf*1.0/count_brain)\n",
    "#         print(\"file, ventr_vol, csf_vol, brain_vol, ventr/brain, csf/brain, 7ventr_vol, 7csf_vol, 7brain_vol, 7ventr/brain, 7csf/brain, ventricle_ratio_bv_7, csf_ratio_bv_7, ventricle_ratio_7, csf_ratio_7, max_z\")\n",
    "        print(file, ventricle_count*mm, csf_count*mm, brain_count*mm,ventricle_count/brain_count, csf_count/brain_count, ventricle_count_7*mm,csf_count_7*mm,brain_count_7*mm, ventricle_count_7/brain_count_7, csf_count_7/brain_count_7,max(count_brain_list_ventricle), max(count_brain_list_csf), max(count_ventricle_list), max(count_csf_list),max_z)\n",
    "\n",
    "#             print(\"7 slices Ventricle volume\", ventricle_count_7*mm)\n",
    "#             print(\"7 slices CSF volume\", csf_count_7*mm)\n",
    "#         print(file,  brain_count*mm, max(count_brain_list_ventricle), max(count_brain_list_csf), max(count_csf_list), max(count_ventricle_list),max_z,ventricle_count*mm,csf_count*mm,ventricle_count_7*mm,csf_count_7*mm,brain_count_7*mm)\n",
    "#         except:\n",
    "#             print(file)"
   ]
  },
  {
   "cell_type": "code",
   "execution_count": null,
   "id": "4970c505",
   "metadata": {},
   "outputs": [],
   "source": [
    "#Final files\n",
    "import nibabel as nib\n",
    "# print(\"file, brain volume, csf_ratio_bv_7, ventricle_ratio_bv_7, csf_ratio_7, ventricle_ratio_7, max_z, total_ventricle_volume, total_csf_volume, ventricle_volune_7,csf_volume_7,brain_volume_7\")\n",
    "print(\"file, ventr_vol, csf_vol, brain_vol, ventr/brain, csf/brain, 7ventr_vol, 7csf_vol, 7brain_vol, 7ventr/brain, 7csf/brain, ventricle_ratio_bv_7, csf_ratio_bv_7, ventricle_ratio_7, csf_ratio_7, max_z\")\n",
    "for file in files:\n",
    "    if \".nii\" in file:\n",
    "        try:\n",
    "            final_img = nib.load(img_dir + file )\n",
    "            mm = final_img.header['pixdim'][1] * final_img.header['pixdim'][2] * final_img.header['pixdim'][3]\n",
    "            mm = abs(mm)\n",
    "            final_N = final_img.get_fdata()\n",
    "            ventricle_count = (final_N == 1).sum()\n",
    "            ventricle_count = ventricle_count + (final_N == 6).sum()\n",
    "            csf_count = ventricle_count + (final_N == 3).sum()\n",
    "            brain_count = (final_N != 1).sum()\n",
    "    #             print(\"Ventricle volume\", file,ventricle_count*mm)\n",
    "    #             print(\"CSF volume\", file,csf_count*mm)\n",
    "            max_z = 0\n",
    "            count_z = 0\n",
    "            for k in range(final_N.shape[2]):\n",
    "                count = 0\n",
    "                for i in range(final_N.shape[0]):\n",
    "                    for j in range(final_N.shape[1]):\n",
    "                        if (final_N[i][j][k] ==1 or final_N[i][j][k] == 6):\n",
    "                            count += 1\n",
    "                if (count > count_z):\n",
    "                    max_z = k\n",
    "                    count_z = count\n",
    "            count_csf_list = []\n",
    "            count_ventricle_list = []\n",
    "            count_brain_list_csf = []\n",
    "            count_brain_list_ventricle = []\n",
    "            ventricle_count_7 = 0\n",
    "            csf_count_7 = 0\n",
    "            brain_count_7 = 0\n",
    "            for k in range(max_z-3,max_z+4):\n",
    "                count_csf = 0\n",
    "                count_ventricle = 0\n",
    "                count_grey = 0\n",
    "                count_brain = 0\n",
    "                for i in range(final_N.shape[0]):\n",
    "                    for j in range(final_N.shape[1]):\n",
    "                        if (final_N[i][j][k] ==1 or final_N[i][j][k] == 3 or final_N[i][j][k] == 6):\n",
    "                            count_csf += 1\n",
    "                        if (final_N[i][j][k] ==1  or final_N[i][j][k] == 6):\n",
    "                            count_ventricle += 1\n",
    "                        if (final_N[i][j][k] == 2):\n",
    "                            count_grey += 1\n",
    "                        if (final_N[i][j][k] != 0):\n",
    "                            count_brain += 1\n",
    "                ventricle_count_7 += count_ventricle\n",
    "                csf_count_7 += count_csf\n",
    "                brain_count_7 += count_brain\n",
    "                count_csf_list.append(count_csf*1.0/count_grey)\n",
    "                count_ventricle_list.append(count_ventricle*1.0/count_grey)\n",
    "                count_brain_list_ventricle.append(count_ventricle*1.0/count_brain)\n",
    "                count_brain_list_csf.append(count_csf*1.0/count_brain)\n",
    "    #         print(\"file, ventr_vol, csf_vol, brain_vol, ventr/brain, csf/brain, 7ventr_vol, 7csf_vol, 7brain_vol, 7ventr/brain, 7csf/brain, ventricle_ratio_bv_7, csf_ratio_bv_7, ventricle_ratio_7, csf_ratio_7, max_z\")\n",
    "            print(file, ventricle_count*mm, csf_count*mm, brain_count*mm,ventricle_count/brain_count, csf_count/brain_count, ventricle_count_7*mm,csf_count_7*mm,brain_count_7*mm, ventricle_count_7/brain_count_7, csf_count_7/brain_count_7,max(count_brain_list_ventricle), max(count_brain_list_csf), max(count_ventricle_list), max(count_csf_list),max_z)\n",
    "            \n",
    "#             print(\"7 slices Ventricle volume\", ventricle_count_7*mm)\n",
    "#             print(\"7 slices CSF volume\", csf_count_7*mm)\n",
    "#         print(file,  brain_count*mm, max(count_brain_list_ventricle), max(count_brain_list_csf), max(count_csf_list), max(count_ventricle_list),max_z,ventricle_count*mm,csf_count*mm,ventricle_count_7*mm,csf_count_7*mm,brain_count_7*mm)\n",
    "        except:\n",
    "            print(file)"
   ]
  },
  {
   "cell_type": "code",
   "execution_count": null,
   "id": "66dc4dc1",
   "metadata": {},
   "outputs": [],
   "source": [
    "print(len(\"2022-06-08T08-56-24-\"))"
   ]
  },
  {
   "cell_type": "code",
   "execution_count": null,
   "id": "aa8bca01",
   "metadata": {},
   "outputs": [],
   "source": [
    "initial = [\"NPH_noShunt_001_70yo\",\"NPH_shunt_017_79yo\",\"NPH_shunt_018_70yo\",\"NPH_shunt_020_72yo\",\"NPH_shunt_007_76yo\",\"NPH_shunt_001_80yo\",\"NPH_shunt_016_79yo\",\"NPH_shunt_013_72yo\",\"NPH_shunt_015_79yo\",\"NPH_shunt_012_72yo\",\"NPH_shunt_011_72yo\",\"NPH_shunt_010_81yo\",\"NPH_shunt_014_79yo\",\"NPH_shunt_009_81yo\",\"NPH_shunt_003_70yo\",\"NPH_shunt_002_70yo\",\"NPH_shunt_006_80yo\",\"NPH_shunt_008_81yo\",\"NPH_noShunt_005_85yo\",\"NPH_noShunt_012_83yo\",\"Norm_old_012_83yo\",\"NPH_shunt_004_85yo\",\"NPH_noShunt_007_85yo\",\"NPH_noShunt_006_85yo\",\"NPH_noShunt_013_83yo\",\"Norm_old_029_80yo\",\"Norm_old_021_77yo\",\"NPH_shunt_005_85yo\",\"Norm_old_013_89yo\",\"Norm_old_009_74yo\",\"Norm_old_030_83yo\",\"Norm_old_003_96yo\",\"Norm_old_007_71yo\",\"Norm_old_001_81yo\",\"Norm_old_028_77yo\",\"NPH_noShunt_010_80yo\",\"NPH_noShunt_011_80yo\",\"Norm_old_031_87yo\",\"Norm_young_024_48yo\",\"NPH_noShunt_009_80yo\",\"Norm_young_022_40yo\",\"Norm_old_008_71yo\",\"Norm_young_009_40yo\",\"Norm_old_006_70yo\",\"NPH_noShunt_008_83yo\",\"Norm_old_037_67yo\",\"Norm_young_007_50yo\",\"Norm_old_010_74yo\",\"NPH_shunt_019_70yo\",\"Norm_young_002_54yo\",\"Norm_old_036_65yo\",\"Norm_old_039_83yo\",\"Norm_old_005_64yo\",\"Norm_young_026_55yo\",\"Norm_young_016_43yo\",\"Norm_old_032_60yo\",\"Norm_old_011_76yo\",\"Norm_young_011_40yo\",\"Norm_old_038_68yo\",\"Norm_young_030_24yo\",\"Norm_young_014_22yo\",\"NPH_noShunt_003_62yo\",\"Norm_young_006_23yo\",\"Norm_young_034_27yo\",\"Norm_young_003_56yo\",\"Norm_young_012_34yo\",\"Norm_young_008_34yo\",\"Norm_young_018_38yo\",\"Norm_young_025_52yo\",\"Norm_young_004_40yo\",\"Norm_young_019_20yo\",\"Norm_young_021_32yo\",\"Norm_young_010_27yo\",\"Norm_old_004_64yo\",\"Norm_young_020_29yo\",\"Norm_young_023_47yo\",\"Norm_old_002_64yo\",\"Norm_young_005_40yo\",\"Norm_young_015_25yo\",\"Norm_young_017_46yo\",\"Norm_young_001_24yo\",\"Norm_young_013_27yo\"]\n",
    "gt = [\"NPH_noShunt_001_70yo\",\"NPH_shunt_013_72yo\",\"NPH_noShunt_002_70yo\",\"NPH_shunt_022_80yo\",\"NPH_shunt_001_80yo\",\"NPH_shunt_010_81yo\",\"NPH_shunt_016_79yo\",\"NPH_shunt_017_79yo\",\"NPH_shunt_007_76yo\",\"NPH_shunt_012_72yo\",\"NPH_shunt_008_81yo\",\"NPH_shunt_011_72yo\",\"NPH_shunt_015_79yo\",\"NPH_shunt_009_81yo\",\"NPH_shunt_006_80yo\",\"NPH_shunt_014_79yo\",\"NPH_shunt_002_70yo\",\"NPH_shunt_003_70yo\",\"NPH_shunt_004_85yo\",\"NPH_noShunt_004_85yo\",\"Norm_old_029_80yo\",\"NPH_noShunt_007_85yo\",\"NPH_noShunt_005_85yo\",\"NPH_shunt_005_85yo\",\"NPH_noShunt_006_85yo\",\"Norm_old_021_77yo\",\"Norm_old_012_83yo\",\"Norm_old_027_74yo\",\"Norm_old_019_74yo\",\"Norm_old_014_61yo\",\"Norm_old_009_74yo\",\"Norm_old_006_70yo\",\"Norm_old_007_71yo\",\"Norm_old_020_75yo\",\"Norm_old_003_96yo\",\"Norm_old_028_77yo\",\"Norm_old_031_87yo\",\"Norm_old_001_81yo\",\"Norm_old_010_74yo\",\"Norm_old_025_70yo\",\"Norm_old_037_67yo\",\"Norm_old_036_65yo\",\"Norm_old_008_71yo\",\"Norm_old_030_83yo\",\"Norm_old_026_72yo\",\"Norm_old_018_71yo\",\"Norm_young_040_37yo\",\"Norm_old_022_78yo\",\"NPH_noShunt_003_62yo\",\"Norm_old_017_69yo\",\"Norm_old_033_60yo\",\"Norm_old_024_66yo\",\"Norm_old_011_76yo\",\"Norm_old_035_65yo\",\"Norm_old_032_60yo\",\"Norm_old_002_64yo\",\"Norm_old_015_61yo\",\"Norm_old_016_66yo\",\"Norm_old_004_64yo\"]\n",
    "intersection_files = []\n",
    "for g_file in gt:\n",
    "    if g_file in initial:\n",
    "        intersection_files.append(g_file)\n",
    "        "
   ]
  },
  {
   "cell_type": "code",
   "execution_count": null,
   "id": "526df47e",
   "metadata": {},
   "outputs": [],
   "source": [
    "print(len(gt))"
   ]
  },
  {
   "cell_type": "code",
   "execution_count": null,
   "id": "e2def4d0",
   "metadata": {},
   "outputs": [],
   "source": [
    "print(intersection_files)"
   ]
  },
  {
   "cell_type": "code",
   "execution_count": null,
   "id": "831d28b9",
   "metadata": {},
   "outputs": [],
   "source": [
    "none_path = '/media/hdd2/shailja/NPH/NoneFile/'\n",
    "none_files = os.listdir(none_path)\n",
    "print(none_files)"
   ]
  },
  {
   "cell_type": "code",
   "execution_count": null,
   "id": "ed6c6358",
   "metadata": {
    "scrolled": true
   },
   "outputs": [],
   "source": [
    "missing = []\n",
    "for file in gt:\n",
    "    if file not in intersection_files:\n",
    "        print(file)\n",
    "        missing.append(file)\n",
    "print(\"Present in None folder\")\n",
    "for file in gt:\n",
    "    if file not in intersection_files and \"Initial_\"+file+\".nii.gz\" in none_files:\n",
    "        print(file)"
   ]
  },
  {
   "cell_type": "code",
   "execution_count": null,
   "id": "b9bc3ec9",
   "metadata": {},
   "outputs": [],
   "source": [
    "for file in initial:\n",
    "    if file not in intersection_files:\n",
    "        print(file)\n",
    "    "
   ]
  },
  {
   "cell_type": "code",
   "execution_count": null,
   "id": "e281653a",
   "metadata": {},
   "outputs": [],
   "source": [
    "print(missing)\n"
   ]
  },
  {
   "cell_type": "code",
   "execution_count": null,
   "id": "f94010e0",
   "metadata": {},
   "outputs": [],
   "source": [
    "for file in initial:\n",
    "    if file not in intersection_files:\n",
    "        print(file)"
   ]
  },
  {
   "cell_type": "code",
   "execution_count": null,
   "id": "449c2b29",
   "metadata": {},
   "outputs": [],
   "source": [
    "import csv\n",
    "f = open('Pre-post analysis - GT_NvsNPH.csv','r',encoding = 'utf-8')\n",
    "\n",
    "# open the file in the write mode\n",
    "fw = open('intersection_gt', 'w')\n",
    "\n",
    "\n",
    "\n",
    "\n",
    "\n",
    "rd = csv.reader(f)\n",
    "rd = list(rd)\n",
    "rownum = len(rd)\n",
    "colnum = len(rd[0])\n",
    "print(rownum,colnum)\n",
    "# create the csv writer\n",
    "writer = csv.writer(fw)\n",
    "# rd = np.delete(np.array(rd),72,0)\n",
    "gt = []\n",
    "for line in rd[1:]:\n",
    "#     print(line[0].split(\".\")[0][6:])\n",
    "    if line[0].split(\".\")[0][6:] in intersection_files:\n",
    "        writer.writerow(line)\n",
    "# close the file\n",
    "f.close()"
   ]
  },
  {
   "cell_type": "code",
   "execution_count": null,
   "id": "47e0ee8b",
   "metadata": {},
   "outputs": [],
   "source": [
    "import csv\n",
    "f = open('Pre-post analysis - NvsNPH.csv','r',encoding = 'utf-8')\n",
    "\n",
    "# open the file in the write mode\n",
    "fw = open('intersection_initial', 'w')\n",
    "\n",
    "rd = csv.reader(f)\n",
    "rd = list(rd)\n",
    "rownum = len(rd)\n",
    "colnum = len(rd[0])\n",
    "print(rownum,colnum)\n",
    "# create the csv writer\n",
    "writer = csv.writer(fw)\n",
    "# rd = np.delete(np.array(rd),72,0)\n",
    "gt = []\n",
    "for line in rd[1:]:\n",
    "    \n",
    "    if line[0].split(\".\")[0][8:] in intersection_files:\n",
    "        print(line[0].split(\".\")[0][8:])\n",
    "        writer.writerow(line)\n",
    "# close the file\n",
    "f.close()"
   ]
  },
  {
   "cell_type": "code",
   "execution_count": null,
   "id": "3a9fa245",
   "metadata": {},
   "outputs": [],
   "source": []
  }
 ],
 "metadata": {
  "kernelspec": {
   "display_name": "Python 3 (ipykernel)",
   "language": "python",
   "name": "python3"
  },
  "language_info": {
   "codemirror_mode": {
    "name": "ipython",
    "version": 3
   },
   "file_extension": ".py",
   "mimetype": "text/x-python",
   "name": "python",
   "nbconvert_exporter": "python",
   "pygments_lexer": "ipython3",
   "version": "3.7.12"
  }
 },
 "nbformat": 4,
 "nbformat_minor": 5
}
